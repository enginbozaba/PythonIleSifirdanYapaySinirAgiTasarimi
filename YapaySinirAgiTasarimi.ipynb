{
 "cells": [
  {
   "cell_type": "markdown",
   "metadata": {},
   "source": [
    "# Python ile Sıfırdan MultiLayer Perceptron Tasarımı"
   ]
  },
  {
   "cell_type": "markdown",
   "metadata": {},
   "source": [
    "## 1) Ağırlık ve Bias değerlerini Oluşturma"
   ]
  },
  {
   "cell_type": "code",
   "execution_count": 1,
   "metadata": {},
   "outputs": [],
   "source": [
    "import numpy as np\n",
    "\n",
    "class ANN:\n",
    "    \n",
    "    def __init__(self,x_train,y_train,x_test,y_test):\n",
    "\n",
    "        self.x_train= x_train\n",
    "        self.y_train= y_train\n",
    "        self.x_test= x_test\n",
    "        self.y_test= y_test\n",
    "    \n",
    "    def initlazition_w_b(self,node_num_list:list=None):\n",
    "\n",
    "        node_list =np.append(self.y_test[0].size,node_num_list) #giriş katmanı katmandan sayılmıyor \n",
    "                                                                #fakat ağırlık matrislerinin boyutlarını etkilediği için ekledim\n",
    " \n",
    "        #http://www.derinogrenme.com/2018/06/28/geri-yayilim-algoritmasina-matematiksel-yaklasim/\n",
    "        weights={}\n",
    "        for i in range(node_list.size-1):#çünkü giriş katmanı bir katman sayılmıyor\n",
    "            # X = [ . .  .    . . .] satır olarak alıyoruz\n",
    "            #\n",
    "            weights['w'+str(i+1)] = np.random.random_sample((node_list[i],node_list[i+1]))# y =x.w +b = (1,N) * (N,M) +(1,M)\n",
    "                                                                # N =simdik_katmandaki_nöron_sayısı \n",
    "                                                                # M =bir_önceki_katman_nöronların_sayısı\n",
    "                                                                # boyutlar şöyle= (M,N)\n",
    "            weights['b'+str(i+1)] = np.full((1,node_list[i+1]),0) # (1,N)\n",
    "        \n",
    "        return weights\n",
    "            \n",
    "            \n",
    "\n",
    "        "
   ]
  },
  {
   "cell_type": "markdown",
   "metadata": {},
   "source": [
    "**Artık modelimizin değerlerini rastgele değerler ile oluşturduk. Şimdi Multilayer Perceptronu oluşturabiliriz.**"
   ]
  },
  {
   "cell_type": "code",
   "execution_count": 2,
   "metadata": {},
   "outputs": [],
   "source": [
    "\n",
    "y_test = np.array([[0.4,1.8]])\n",
    "\n",
    "model=ANN([],[],[],y_test)\n",
    "\n",
    "\n",
    "ag_yapisi = np.array([4,3,1])\n",
    "\n",
    "degerler=model.initlazition_w_b(ag_yapisi) # 2 - 4 - 3 - 1 : 2 Gizli katman ve 1 çıkış katmanı mevcut.\n"
   ]
  },
  {
   "cell_type": "markdown",
   "metadata": {},
   "source": [
    "**Oluşturduğumuz ağı görselleştirelim.**"
   ]
  },
  {
   "cell_type": "code",
   "execution_count": 3,
   "metadata": {},
   "outputs": [
    {
     "name": "stdout",
     "output_type": "stream",
     "text": [
      "G İ R D İ L E R : [[0.4 1.8]]\n",
      "\n",
      " ----O--------O---- Giriş Katmanındaki Nöronlar  \n",
      "\n",
      "w 1  :\n",
      " [[0.56541887 0.10971356 0.6855159  0.57315279]\n",
      " [0.72007418 0.91532905 0.95591631 0.96631244]]\n",
      "b 1 :\n",
      " [[0 0 0 0]]\n",
      "\n",
      " ----O--------O--------O--------O----    1 .Gizli Katmandaki Nöronlar   \n",
      "w 2  :\n",
      " [[0.9530958  0.05384011 0.96843019]\n",
      " [0.60641561 0.37769098 0.13020985]\n",
      " [0.31944734 0.24080147 0.43404571]\n",
      " [0.39351993 0.99357539 0.41913688]]\n",
      "b 2 :\n",
      " [[0 0 0]]\n",
      "\n",
      " ----O--------O--------O----    2 .Gizli Katmandaki Nöronlar   \n",
      "w 3  :\n",
      " [[0.16222872]\n",
      " [0.08440133]\n",
      " [0.83062473]]\n",
      "b 3 :\n",
      " [[0]]\n",
      "\n",
      " ----O---- Çıkış Katmanındaki Nöron   \n"
     ]
    }
   ],
   "source": [
    "#Görselleştirme\n",
    "\n",
    "print('G İ R D İ L E R :',y_test)\n",
    "print('\\n','----O----'*y_test.size,'Giriş Katmanındaki Nöronlar ','\\n')\n",
    "\n",
    "\n",
    "for i in range(ag_yapisi.size):\n",
    "    \n",
    "    print('w',str(i+1),' :\\n',degerler['w'+str(i+1)])\n",
    "\n",
    "    print('b',str(i+1),':\\n',degerler['b'+str(i+1)])\n",
    "    \n",
    "    if i ==ag_yapisi.size-1:\n",
    "        \n",
    "        print('\\n','----O----'*ag_yapisi[i],'Çıkış Katmanındaki Nöron   ')\n",
    "        break# en sonda döngüden çık\n",
    "        \n",
    "    print('\\n','----O----'*ag_yapisi[i],'  ',str(i+1),'.Gizli Katmandaki Nöronlar   ')\n",
    "    \n"
   ]
  }
 ],
 "metadata": {
  "kernelspec": {
   "display_name": "Python 3",
   "language": "python",
   "name": "python3"
  },
  "language_info": {
   "codemirror_mode": {
    "name": "ipython",
    "version": 3
   },
   "file_extension": ".py",
   "mimetype": "text/x-python",
   "name": "python",
   "nbconvert_exporter": "python",
   "pygments_lexer": "ipython3",
   "version": "3.6.5"
  }
 },
 "nbformat": 4,
 "nbformat_minor": 2
}
